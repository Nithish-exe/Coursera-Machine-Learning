{
 "cells": [
  {
   "cell_type": "code",
   "execution_count": 49,
   "metadata": {},
   "outputs": [],
   "source": [
    "import numpy as np\n",
    "import time"
   ]
  },
  {
   "cell_type": "code",
   "execution_count": 50,
   "metadata": {},
   "outputs": [
    {
     "name": "stdout",
     "output_type": "stream",
     "text": [
      "np.zeros(4) :   a = [0. 0. 0. 0.], a shape = (4,), a data type = float64\n",
      "np.zeros(4,) :  a = [0. 0. 0. 0.], a shape = (4,), a data type = float64\n",
      "np.random.random_sample(4): a = [0.04997798 0.77390955 0.93782363 0.5792328 ], a shape = (4,), a data type = float64\n"
     ]
    }
   ],
   "source": [
    "# data creation in NumPy often has a first parameter which is the shape of an object which can be a single value or a tuple\n",
    "# the shape of a numpy array is a tuple with values for each dimension\n",
    "# in a 1d array, the output is (# of elements,)\n",
    "# in a 2d array, the output is (# of rowns, #number of colums)\n",
    "a = np.zeros(4);                \n",
    "print(f\"np.zeros(4) :   a = {a}, a shape = {a.shape}, a data type = {a.dtype}\")\n",
    "a = np.zeros((4,));             \n",
    "print(f\"np.zeros(4,) :  a = {a}, a shape = {a.shape}, a data type = {a.dtype}\")\n",
    "a = np.random.random_sample(4);\n",
    "print(f\"np.random.random_sample(4): a = {a}, a shape = {a.shape}, a data type = {a.dtype}\")"
   ]
  },
  {
   "cell_type": "code",
   "execution_count": 51,
   "metadata": {},
   "outputs": [
    {
     "name": "stdout",
     "output_type": "stream",
     "text": [
      "np.arange(4.):     a = [0. 1. 2. 3.], a shape = (4,), a data type = float64\n",
      "np.random.rand(4): a = [0.53516563 0.80204309 0.24814448 0.59096694], a shape = (4,), a data type = float64\n"
     ]
    }
   ],
   "source": [
    "# some methods fill arrays with a value bu don't take shape as a parameter\n",
    "a = np.arange(4.);              \n",
    "print(f\"np.arange(4.):     a = {a}, a shape = {a.shape}, a data type = {a.dtype}\")\n",
    "a = np.random.rand(4);          \n",
    "print(f\"np.random.rand(4): a = {a}, a shape = {a.shape}, a data type = {a.dtype}\")"
   ]
  },
  {
   "cell_type": "code",
   "execution_count": 52,
   "metadata": {},
   "outputs": [
    {
     "name": "stdout",
     "output_type": "stream",
     "text": [
      "np.array([5,4,3,2]):  a = [5 4 3 2],     a shape = (4,), a data type = int32\n",
      "np.array([5.,4,3,2]): a = [5. 4. 3. 2.], a shape = (4,), a data type = float64\n"
     ]
    }
   ],
   "source": [
    "# you can also create an array by manually assigning values\n",
    "a = np.array([5,4,3,2]); \n",
    "print(f\"np.array([5,4,3,2]):  a = {a},     a shape = {a.shape}, a data type = {a.dtype}\")\n",
    "a = np.array([5.,4,3,2]); \n",
    "print(f\"np.array([5.,4,3,2]): a = {a}, a shape = {a.shape}, a data type = {a.dtype}\")"
   ]
  },
  {
   "cell_type": "code",
   "execution_count": 53,
   "metadata": {},
   "outputs": [
    {
     "name": "stdout",
     "output_type": "stream",
     "text": [
      "[0 1 2 3 4 5 6 7 8 9]\n",
      "a[2].shape: () a[2]  = 2, Accessing an element returns a scalar\n",
      "a[-1] = 9\n",
      "The error message you'll see is:\n",
      "index 10 is out of bounds for axis 0 with size 10\n"
     ]
    }
   ],
   "source": [
    "# you can access an element using the index\n",
    "# to access the last element you ue a negative index, negative indexes count from the last element\n",
    "# indexes must be within the range of the vector or they will error out, the range is the length of the vector - 1 because the index starts at 0\n",
    "a = np.arange(10)\n",
    "print(a)\n",
    "print(f\"a[2].shape: {a[2].shape} a[2]  = {a[2]}, Accessing an element returns a scalar\")\n",
    "print(f\"a[-1] = {a[-1]}\")\n",
    "try:\n",
    "    c = a[10]\n",
    "except Exception as e:\n",
    "    print(\"The error message you'll see is:\")\n",
    "    print(e)"
   ]
  },
  {
   "cell_type": "code",
   "execution_count": 54,
   "metadata": {},
   "outputs": [
    {
     "name": "stdout",
     "output_type": "stream",
     "text": [
      "a = [0 1 2 3 4 5 6 7 8 9]\n",
      "a[2:7:1] =  [2 3 4 5 6]\n",
      "a[2:7:2] =  [2 4 6]\n",
      "a[3:] =  [3 4 5 6 7 8 9]\n",
      "a[:3] =  [0 1 2]\n",
      "a[:] =  [0 1 2 3 4 5 6 7 8 9]\n"
     ]
    }
   ],
   "source": [
    "# vector slicing operations(extracting certain indexes)\n",
    "a = np.arange(10)\n",
    "print(f\"a = {a}\")\n",
    "c = a[2:7:1]; # access 5 consecutive elements(start:stop:step)    \n",
    "print(\"a[2:7:1] = \", c)\n",
    "c = a[2:7:2]; # access 3 elements separated by two(start:stop:step)\n",
    "print(\"a[2:7:2] = \", c)\n",
    "c = a[3:]; # access all elements index 3 and above   \n",
    "print(\"a[3:] = \", c)\n",
    "c = a[:3]; # access all elements below index 3\n",
    "print(\"a[:3] = \", c)\n",
    "c = a[:]; # access all elements\n",
    "print(\"a[:] = \", c)"
   ]
  },
  {
   "cell_type": "code",
   "execution_count": 55,
   "metadata": {},
   "outputs": [
    {
     "name": "stdout",
     "output_type": "stream",
     "text": [
      "a: [1 2 3 4]\n",
      "b = -a: [-1 -2 -3 -4]\n",
      "b = np.sum(a): 10\n",
      "b = np.mean(a): 2.5\n",
      "b = a**2: [ 1  4  9 16]\n"
     ]
    }
   ],
   "source": [
    "# you can perform many operations of every element in an array\n",
    "a = np.array([1,2,3,4])\n",
    "print(f\"a: {a}\") # negate elements of a\n",
    "b = -a \n",
    "print(f\"b = -a: {b}\") # sum of all elements of a\n",
    "b = np.sum(a) \n",
    "print(f\"b = np.sum(a): {b}\")\n",
    "b = np.mean(a) # average of all elements of a\n",
    "print(f\"b = np.mean(a): {b}\")\n",
    "b = a**2 # square of all elements of a\n",
    "print(f\"b = a**2: {b}\")"
   ]
  },
  {
   "cell_type": "code",
   "execution_count": 56,
   "metadata": {},
   "outputs": [
    {
     "name": "stdout",
     "output_type": "stream",
     "text": [
      "Binary operators work element wise: [0 0 6 8]\n"
     ]
    }
   ],
   "source": [
    "# we can add all corresponding elements in lists a[i] + b[i] by using a + b\n",
    "a = np.array([ 1, 2, 3, 4])\n",
    "b = np.array([-1,-2, 3, 4])\n",
    "print(f\"Binary operators work element wise: {a + b}\")"
   ]
  },
  {
   "cell_type": "code",
   "execution_count": 57,
   "metadata": {},
   "outputs": [
    {
     "name": "stdout",
     "output_type": "stream",
     "text": [
      "The error message you'll see is:\n",
      "operands could not be broadcast together with shapes (4,) (2,) \n"
     ]
    }
   ],
   "source": [
    "# in order to perform operations on entire vectots, they must be the same length\n",
    "c = np.array([1, 2])\n",
    "try:\n",
    "    d = a + c\n",
    "except Exception as e:\n",
    "    print(\"The error message you'll see is:\")\n",
    "    print(e)"
   ]
  },
  {
   "cell_type": "code",
   "execution_count": 58,
   "metadata": {},
   "outputs": [
    {
     "name": "stdout",
     "output_type": "stream",
     "text": [
      "b = 5 * a : [ 5 10 15 20]\n"
     ]
    }
   ],
   "source": [
    "# multiply all elements in array a by a scalar\n",
    "a = np.array([1, 2, 3, 4])\n",
    "b = 5 * a \n",
    "print(f\"b = 5 * a : {b}\")"
   ]
  },
  {
   "cell_type": "code",
   "execution_count": 59,
   "metadata": {},
   "outputs": [],
   "source": [
    "# assuuming a and b are the same length, we can make our own dot function\n",
    "# the dot function multiplies a and b and adds x for every index\n",
    "def my_dot(a, b): \n",
    "    x=0\n",
    "    for i in range(a.shape[0]):\n",
    "        x = x + a[i] * b[i]\n",
    "    return x"
   ]
  },
  {
   "cell_type": "code",
   "execution_count": 60,
   "metadata": {},
   "outputs": [
    {
     "name": "stdout",
     "output_type": "stream",
     "text": [
      "my_dot(a, b) = 24\n"
     ]
    }
   ],
   "source": [
    "# testing using 1d array\n",
    "a = np.array([1, 2, 3, 4])\n",
    "b = np.array([-1, 4, 3, 2])\n",
    "print(f\"my_dot(a, b) = {my_dot(a, b)}\")"
   ]
  },
  {
   "cell_type": "code",
   "execution_count": 61,
   "metadata": {},
   "outputs": [
    {
     "name": "stdout",
     "output_type": "stream",
     "text": [
      "NumPy 1d np.dot(a, b) = 24, np.dot(a, b).shape = () \n",
      "NumPy 1d np.dot(b, a) = 24, np.dot(a, b).shape = () \n"
     ]
    }
   ],
   "source": [
    "# we can use the NumPy built in dot function which is more efficient with processing, speed, and is easier to read\n",
    "# note that both implementations complete the same task and return the same things including data types\n",
    "# also note that the product of the dot function has no shape\n",
    "a = np.array([1, 2, 3, 4])\n",
    "b = np.array([-1, 4, 3, 2])\n",
    "c = np.dot(a, b)\n",
    "print(f\"NumPy 1d np.dot(a, b) = {c}, np.dot(a, b).shape = {c.shape} \") \n",
    "c = np.dot(b, a)\n",
    "print(f\"NumPy 1d np.dot(b, a) = {c}, np.dot(a, b).shape = {c.shape} \")"
   ]
  },
  {
   "cell_type": "code",
   "execution_count": 62,
   "metadata": {},
   "outputs": [
    {
     "name": "stdout",
     "output_type": "stream",
     "text": [
      "np.dot(a, b) =  2501072.5817\n",
      "Vectorized version duration: -13.9313 ms \n",
      "my_dot(a, b) =  2501072.5817\n",
      "loop version duration: -2835.9728 ms \n"
     ]
    }
   ],
   "source": [
    "# using the dot function is more efficient as seen in the times below, although the difference is small now, in very large data sets, this can make a significant differenve\n",
    "np.random.seed(1)\n",
    "a = np.random.rand(10000000) # very large arrays\n",
    "b = np.random.rand(10000000) # very large arrays\n",
    "start = time.time() # capture start time\n",
    "c = np.dot(a, b)\n",
    "end = time.time() # capture end time\n",
    "print(f\"np.dot(a, b) =  {c:.4f}\")\n",
    "print(f\"Vectorized version duration: {1000*(start-end):.4f} ms \")\n",
    "start = time.time() # capture start time\n",
    "c = my_dot(a,b)\n",
    "end = time.time() # capture end time\n",
    "print(f\"my_dot(a, b) =  {c:.4f}\")\n",
    "print(f\"loop version duration: {1000*(start-end):.4f} ms \")\n",
    "del(a);del(b)  #remove these big arrays from memory"
   ]
  },
  {
   "cell_type": "code",
   "execution_count": 63,
   "metadata": {},
   "outputs": [
    {
     "name": "stdout",
     "output_type": "stream",
     "text": [
      "X[1] has shape (1,)\n",
      "w has shape (1,)\n",
      "c has shape ()\n"
     ]
    }
   ],
   "source": [
    "# showing common examples in course 1\n",
    "x = np.array([[1],[2],[3],[4]])\n",
    "w = np.array([2])\n",
    "c = np.dot(X[1], w)\n",
    "\n",
    "print(f\"x[1] has shape {x[1].shape}\")\n",
    "print(f\"w has shape {w.shape}\")\n",
    "print(f\"c has shape {c.shape}\")"
   ]
  },
  {
   "cell_type": "code",
   "execution_count": 64,
   "metadata": {},
   "outputs": [
    {
     "name": "stdout",
     "output_type": "stream",
     "text": [
      "a shape = (1, 5), a = [[0. 0. 0. 0. 0.]]\n",
      "a shape = (2, 1), a = [[0.]\n",
      " [0.]]\n",
      "a shape = (1, 1), a = [[0.44236513]]\n"
     ]
    }
   ],
   "source": [
    "# a matrix is a 2d or nd array which is essentially an array of arrays or arrays containing arrays at a certain index\n",
    "a = np.zeros((1, 5)) # 1 row and 5 columns                                     \n",
    "print(f\"a shape = {a.shape}, a = {a}\")                     \n",
    "a = np.zeros((2, 1)) # 2 rows and 1 column                                                             \n",
    "print(f\"a shape = {a.shape}, a = {a}\") \n",
    "a = np.random.random_sample((1, 1)) # 1 row and 1 column\n",
    "print(f\"a shape = {a.shape}, a = {a}\") "
   ]
  },
  {
   "cell_type": "code",
   "execution_count": 65,
   "metadata": {},
   "outputs": [
    {
     "name": "stdout",
     "output_type": "stream",
     "text": [
      " a shape = (3, 1), np.array: a = [[5]\n",
      " [4]\n",
      " [3]]\n",
      " a shape = (3, 1), np.array: a = [[5]\n",
      " [4]\n",
      " [3]]\n"
     ]
    }
   ],
   "source": [
    "# certain NumPy methods use memory and fills it with user specified values\n",
    "a = np.array([[5], [4], [3]]);   \n",
    "print(f\" a shape = {a.shape}, np.array: a = {a}\")\n",
    "a = np.array([[5],  # you can also\n",
    "              [4],  # separate values\n",
    "              [3]]); # into separate rows for easier visualization\n",
    "print(f\" a shape = {a.shape}, np.array: a = {a}\")"
   ]
  },
  {
   "cell_type": "code",
   "execution_count": 66,
   "metadata": {},
   "outputs": [
    {
     "name": "stdout",
     "output_type": "stream",
     "text": [
      "a.shape: (3, 2), \n",
      "a = [[0 1]\n",
      " [2 3]\n",
      " [4 5]]\n",
      "\n",
      "a[2,0].shape: (), a[2,0] = 4, type(a[2,0]) = <class 'numpy.int32'> Accessing an element returns a scalar\n",
      "\n",
      "a[2].shape: (2,), a[2] = [4 5], type(a[2]) = <class 'numpy.ndarray'>\n"
     ]
    }
   ],
   "source": [
    "# NumPy also offers vector indexing operations on matrices\n",
    "# reshape is a easy way to create matrices, first parameter is # of rows and the second is # of columns\n",
    "# if the first parameter is -1, it tells the function to calculate the number of rows based on the array size and # of columnns given\n",
    "a = np.arange(6).reshape(-1, 2)\n",
    "print(f\"a.shape: {a.shape}, \\na = {a}\")\n",
    "# to access one element in a row\n",
    "print(f\"\\na[2,0].shape: {a[2, 0].shape}, a[2,0] = {a[2, 0]}, type(a[2,0]) = {type(a[2, 0])} Accessing an element returns a scalar\\n\")\n",
    "# to access an entire row\n",
    "print(f\"a[2].shape: {a[2].shape}, a[2] = {a[2]}, type(a[2]) = {type(a[2])}\")"
   ]
  },
  {
   "cell_type": "code",
   "execution_count": 70,
   "metadata": {},
   "outputs": [
    {
     "name": "stdout",
     "output_type": "stream",
     "text": [
      "a = \n",
      "[[ 0  1  2  3  4  5  6  7  8  9]\n",
      " [10 11 12 13 14 15 16 17 18 19]]\n",
      "\n",
      "a[0, 2:7:1] =  [2 3 4 5 6] , a[0, 2:7:1].shape = (5,) a 1d array\n",
      "\n",
      "a[:, 2:7:1] = \n",
      " [[ 2  3  4  5  6]\n",
      " [12 13 14 15 16]] , a[:, 2:7:1].shape = (2, 5) a 2d array\n",
      "\n",
      "a[:,:] = \n",
      " [[ 0  1  2  3  4  5  6  7  8  9]\n",
      " [10 11 12 13 14 15 16 17 18 19]] , a[:,:].shape = (2, 10)\n",
      "\n",
      "a[1,:] =  [10 11 12 13 14 15 16 17 18 19] , a[1,:].shape = (10,) a 1d array\n",
      "\n",
      "a[1] =  [10 11 12 13 14 15 16 17 18 19] , a[1].shape = (10,) a 1d array\n"
     ]
    }
   ],
   "source": [
    "# vector 2d slicing operations\n",
    "a = np.arange(20).reshape(-1, 10)\n",
    "print(f\"a = \\n{a}\")\n",
    "print(\"\\na[0, 2:7:1] = \", a[0, 2:7:1],\", a[0, 2:7:1].shape =\", a[0, 2:7:1].shape, \"a 1d array\") # access 5 consecutive elements (start:stop:step)\n",
    "print(\"\\na[:, 2:7:1] = \\n\", a[:, 2:7:1],\", a[:, 2:7:1].shape =\", a[:, 2:7:1].shape, \"a 2d array\") # access 5 consecutive elements (start:stop:step) in two rows\n",
    "print(\"\\na[:,:] = \\n\", a[:,:],\", a[:,:].shape =\", a[:,:].shape) # access all elements\n",
    "print(\"\\na[1,:] = \", a[1,:],\", a[1,:].shape =\", a[1,:].shape, \"a 1d array\") # access all elements in one row, very commonly used\n",
    "print(\"\\na[1] = \", a[1],\", a[1].shape =\", a[1].shape, \"a 1d array\")# same as above, replace 1 with 2 for second row"
   ]
  }
 ],
 "metadata": {
  "dl_toc_settings": {
   "rndtag": "40015"
  },
  "kernelspec": {
   "display_name": "Python 3",
   "language": "python",
   "name": "python3"
  },
  "language_info": {
   "codemirror_mode": {
    "name": "ipython",
    "version": 3
   },
   "file_extension": ".py",
   "mimetype": "text/x-python",
   "name": "python",
   "nbconvert_exporter": "python",
   "pygments_lexer": "ipython3",
   "version": "3.11.3"
  },
  "toc-autonumbering": false
 },
 "nbformat": 4,
 "nbformat_minor": 4
}
